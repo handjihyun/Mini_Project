{
 "cells": [
  {
   "cell_type": "code",
   "execution_count": 1,
   "metadata": {},
   "outputs": [],
   "source": [
    "from tensorflow.keras.preprocessing.image import ImageDataGenerator, load_img, img_to_array\n",
    "from tensorflow.keras.models import Model, load_model, Sequential\n",
    "from tensorflow.keras.layers import Dropout, Flatten, Dense, Conv2D, MaxPooling2D, Input\n",
    "from tensorflow.keras.callbacks import EarlyStopping, ModelCheckpoint\n",
    "\n",
    "import os\n",
    "import numpy as np\n",
    "import pandas as pd\n",
    "import matplotlib.pyplot as plt"
   ]
  },
  {
   "cell_type": "code",
   "execution_count": 2,
   "metadata": {},
   "outputs": [
    {
     "ename": "ValueError",
     "evalue": "The provided input folder \"./DATA/simpsons_dataset\" does not exists. Your relative path cannot be found from the current working directory \"c:\\Mini_Project\\DL\".",
     "output_type": "error",
     "traceback": [
      "\u001b[1;31m---------------------------------------------------------------------------\u001b[0m",
      "\u001b[1;31mValueError\u001b[0m                                Traceback (most recent call last)",
      "Cell \u001b[1;32mIn[2], line 6\u001b[0m\n\u001b[0;32m      3\u001b[0m input_dir \u001b[39m=\u001b[39m \u001b[39m'\u001b[39m\u001b[39m./DATA/simpsons_dataset\u001b[39m\u001b[39m'\u001b[39m\n\u001b[0;32m      4\u001b[0m output_dir \u001b[39m=\u001b[39m \u001b[39m'\u001b[39m\u001b[39m./DATA/data/\u001b[39m\u001b[39m'\u001b[39m\n\u001b[1;32m----> 6\u001b[0m splitfolders\u001b[39m.\u001b[39;49mratio(input_dir, output\u001b[39m=\u001b[39;49moutput_dir, seed\u001b[39m=\u001b[39;49m\u001b[39m1337\u001b[39;49m, ratio\u001b[39m=\u001b[39;49m(\u001b[39m.9\u001b[39;49m, \u001b[39m.1\u001b[39;49m))\n",
      "File \u001b[1;32mc:\\ProgramData\\Anaconda3\\envs\\DL\\lib\\site-packages\\splitfolders\\split.py:81\u001b[0m, in \u001b[0;36mratio\u001b[1;34m(input, output, seed, ratio, group_prefix, move)\u001b[0m\n\u001b[0;32m     78\u001b[0m \u001b[39mif\u001b[39;00m \u001b[39mnot\u001b[39;00m \u001b[39mlen\u001b[39m(ratio) \u001b[39min\u001b[39;00m (\u001b[39m2\u001b[39m, \u001b[39m3\u001b[39m):\n\u001b[0;32m     79\u001b[0m     \u001b[39mraise\u001b[39;00m \u001b[39mValueError\u001b[39;00m(\u001b[39m\"\u001b[39m\u001b[39m`ratio` should\u001b[39m\u001b[39m\"\u001b[39m)\n\u001b[1;32m---> 81\u001b[0m check_input_format(\u001b[39minput\u001b[39;49m)\n\u001b[0;32m     83\u001b[0m \u001b[39mif\u001b[39;00m use_tqdm:\n\u001b[0;32m     84\u001b[0m     prog_bar \u001b[39m=\u001b[39m tqdm(desc\u001b[39m=\u001b[39m\u001b[39mf\u001b[39m\u001b[39m\"\u001b[39m\u001b[39mCopying files\u001b[39m\u001b[39m\"\u001b[39m, unit\u001b[39m=\u001b[39m\u001b[39m\"\u001b[39m\u001b[39m files\u001b[39m\u001b[39m\"\u001b[39m)\n",
      "File \u001b[1;32mc:\\ProgramData\\Anaconda3\\envs\\DL\\lib\\site-packages\\splitfolders\\split.py:56\u001b[0m, in \u001b[0;36mcheck_input_format\u001b[1;34m(input)\u001b[0m\n\u001b[0;32m     54\u001b[0m     \u001b[39mif\u001b[39;00m \u001b[39mnot\u001b[39;00m p_input\u001b[39m.\u001b[39mis_absolute():\n\u001b[0;32m     55\u001b[0m         err_msg \u001b[39m+\u001b[39m\u001b[39m=\u001b[39m \u001b[39mf\u001b[39m\u001b[39m'\u001b[39m\u001b[39m Your relative path cannot be found from the current working directory \u001b[39m\u001b[39m\"\u001b[39m\u001b[39m{\u001b[39;00mPath\u001b[39m.\u001b[39mcwd()\u001b[39m}\u001b[39;00m\u001b[39m\"\u001b[39m\u001b[39m.\u001b[39m\u001b[39m'\u001b[39m\n\u001b[1;32m---> 56\u001b[0m     \u001b[39mraise\u001b[39;00m \u001b[39mValueError\u001b[39;00m(err_msg)\n\u001b[0;32m     58\u001b[0m \u001b[39mif\u001b[39;00m \u001b[39mnot\u001b[39;00m p_input\u001b[39m.\u001b[39mis_dir():\n\u001b[0;32m     59\u001b[0m     \u001b[39mraise\u001b[39;00m \u001b[39mValueError\u001b[39;00m(\u001b[39mf\u001b[39m\u001b[39m'\u001b[39m\u001b[39mThe provided input folder \u001b[39m\u001b[39m\"\u001b[39m\u001b[39m{\u001b[39;00m\u001b[39minput\u001b[39m\u001b[39m}\u001b[39;00m\u001b[39m\"\u001b[39m\u001b[39m is not a directory\u001b[39m\u001b[39m'\u001b[39m)\n",
      "\u001b[1;31mValueError\u001b[0m: The provided input folder \"./DATA/simpsons_dataset\" does not exists. Your relative path cannot be found from the current working directory \"c:\\Mini_Project\\DL\"."
     ]
    }
   ],
   "source": [
    "import splitfolders\n",
    "\n",
    "input_dir = '../DATA/simpsons_dataset/'\n",
    "output_dir = '../DATA/data/'\n",
    "\n",
    "splitfolders.ratio(input_dir, output=output_dir, seed=1337, ratio=(.9, .1))"
   ]
  },
  {
   "cell_type": "code",
   "execution_count": null,
   "metadata": {},
   "outputs": [],
   "source": [
    "train_dir = './DATA/data/train/'\n",
    "val_dir = './DATA/data/val/'"
   ]
  },
  {
   "cell_type": "code",
   "execution_count": null,
   "metadata": {},
   "outputs": [],
   "source": [
    "image_size = (64, 64, 3)\n",
    "epochs = 50\n",
    "batch_size = 128\n",
    "\n",
    "labels = os.listdir(train_dir)"
   ]
  },
  {
   "cell_type": "code",
   "execution_count": null,
   "metadata": {},
   "outputs": [],
   "source": [
    "# 이미지 증식\n",
    "# shear_range : 반시계 방향으로 회전\n",
    "# horizontal_flip : 좌우 방향으로 뒤집기\n",
    "# rotation_range : 이미지 회전값\n",
    "# width_shift_range : 좌우 이동\n",
    "# height_shift_range : 상하 이동\n",
    "\n",
    "train_datagen = ImageDataGenerator(rescale=1./255,\n",
    "                                   shear_range = 0.2,\n",
    "                                   zoom_range = 0.2,\n",
    "                                   horizontal_flip = True,\n",
    "                                   rotation_range = 40,\n",
    "                                   width_shift_range = 0.2,\n",
    "                                   height_shift_range = 0.2)\n",
    "\n",
    "test_datagen = ImageDataGenerator(rescale = 1./255)"
   ]
  },
  {
   "cell_type": "code",
   "execution_count": null,
   "metadata": {},
   "outputs": [],
   "source": [
    "# 폴더에서 이미지를 가져와 제너레이터 객체로 정의\n",
    "training_set = train_datagen.flow_from_directory(train_dir,\n",
    "                                                 target_size = image_size[:2],\n",
    "                                                 batch_size=batch_size,\n",
    "                                                 class_mode = 'sparse',\n",
    "                                                 color_mode = 'rgb')\n",
    "\n",
    "val_set = test_datagen.flow_from_directory(val_dir,\n",
    "                                           target_size = image_size[:2],\n",
    "                                           batch_size=batch_size,\n",
    "                                           class_mode = 'sparse',\n",
    "                                           color_mode = 'rgb')"
   ]
  },
  {
   "cell_type": "code",
   "execution_count": null,
   "metadata": {},
   "outputs": [],
   "source": [
    "model = Sequential()\n",
    "model.add(Input(shape=image_size))\n",
    "model.add(Conv2D(32, (3, 3), padding = 'same', activation = 'relu'))\n",
    "model.add(Conv2D(32, (3, 3), activation = 'relu'))\n",
    "model.add(MaxPooling2D(pool_size=(2, 2)))\n",
    "model.add(Dropout(0.2))\n",
    "\n",
    "model.add(Conv2D(64, (3, 3), padding = 'same', activation = 'relu'))\n",
    "model.add(MaxPooling2D(pool_size=(2, 2)))\n",
    "model.add(Dropout(0.2))\n",
    "\n",
    "model.add(Conv2D(256, (3, 3), padding = 'same', activation = 'relu'))\n",
    "model.add(MaxPooling2D(pool_size=(2, 2)))\n",
    "model.add(Dropout(0.2))\n",
    "\n",
    "model.add(Flatten())\n",
    "model.add(Dense(1024, activation = 'relu'))\n",
    "model.add(Dropout(0.5))\n",
    "model.add(Dense(len(labels), activation = 'softmax'))"
   ]
  },
  {
   "cell_type": "code",
   "execution_count": null,
   "metadata": {},
   "outputs": [],
   "source": [
    "input_layer = Input(shape=image_size)\n",
    "\n",
    "x1 = Conv2D(32, (3, 3), padding = 'same', activation = 'relu')(input_layer)\n",
    "x2 = Conv2D(32, (3, 3), activation = 'relu')(x1)\n",
    "x3 = MaxPooling2D(pool_size=(2, 2))(x2)\n",
    "x4 = Dropout(0.2)(x3)\n",
    "x5 = Conv2D(64, (3, 3), padding = 'same', activation = 'relu')(x4)\n",
    "x6 = MaxPooling2D(pool_size=(2, 2))(x5)\n",
    "x7 = Dropout(0.2)(x6)\n",
    "x8 = Conv2D(256, (3, 3), padding = 'same', activation = 'relu')(x7)\n",
    "x9 = MaxPooling2D(pool_size=(2, 2))(x8)\n",
    "x10 = Dropout(0.2)(x9)\n",
    "x11 = Flatten()(x10)\n",
    "x12 = Dense(1024, activation = 'relu')(x11)\n",
    "x13 = Dropout(0.5)(x12)\n",
    "output_layer = Dense(len(labels), activation = 'softmax')(x13)\n",
    "\n",
    "model = Model(inputs=input_layer, outputs = output_layer)"
   ]
  },
  {
   "cell_type": "code",
   "execution_count": null,
   "metadata": {},
   "outputs": [],
   "source": [
    "stopCB = EarlyStopping(monitor='val_acc', patience=5)"
   ]
  },
  {
   "cell_type": "code",
   "execution_count": null,
   "metadata": {},
   "outputs": [],
   "source": [
    "model.compile(optimizer='adam',\n",
    "              loss='sparse_categorical_crossentropy',\n",
    "              metrics=['acc'])"
   ]
  },
  {
   "cell_type": "code",
   "execution_count": null,
   "metadata": {},
   "outputs": [],
   "source": [
    "model.summary()"
   ]
  },
  {
   "cell_type": "code",
   "execution_count": null,
   "metadata": {},
   "outputs": [],
   "source": [
    "stopCB = EarlyStopping(patience=5, monitor='val_acc')\n",
    "\n",
    "checkpoint_filepath = './model.h5'\n",
    "ModelCP = ModelCheckpoint(filepath=checkpoint_filepath,\n",
    "                          save_weights_only = False,\n",
    "                          monitor = 'val_acc',\n",
    "                          mode = 'max',\n",
    "                          save_best_only = True)"
   ]
  },
  {
   "cell_type": "code",
   "execution_count": null,
   "metadata": {},
   "outputs": [],
   "source": [
    "history = model.fit(training_set,\n",
    "                    epochs=epochs,\n",
    "                    validation_data = val_set,\n",
    "                    callbacks = [stopCB, ModelCP])"
   ]
  },
  {
   "cell_type": "code",
   "execution_count": null,
   "metadata": {},
   "outputs": [],
   "source": [
    "acc_loss_df = pd.DataFrame(history.history)\n",
    "acc_loss_df"
   ]
  },
  {
   "cell_type": "code",
   "execution_count": null,
   "metadata": {},
   "outputs": [],
   "source": [
    "plt.figure(figsize=(15, 7))\n",
    "plt.subplot(1,2,1)\n",
    "plt.plot(acc_loss_df.iloc[:, [0, 2]])\n",
    "plt.title('LOSS')\n",
    "plt.xlabel('EPOCHS')\n",
    "plt.legend(['train', 'valid'], fontsize=15)\n",
    "\n",
    "plt.subplot(1,2,2)\n",
    "plt.plot(acc_loss_df.iloc[:, [1, 3]])\n",
    "plt.title('ACCURACY')\n",
    "plt.xlabel('EPOCHS')\n",
    "plt.legend(['train', 'valid'], fontsize=15)\n",
    "plt.show()"
   ]
  },
  {
   "cell_type": "code",
   "execution_count": null,
   "metadata": {},
   "outputs": [],
   "source": [
    "# loading best model\n",
    "saved_model = load_model('./model.h5')"
   ]
  },
  {
   "cell_type": "code",
   "execution_count": null,
   "metadata": {},
   "outputs": [],
   "source": [
    "img_path = './DATA/kaggle_simpson_testset/kaggle_simpson_testset/krusty_the_clown_10.jpg'\n",
    "img = load_img(img_path, target_size=(64, 64, 3))\n",
    "plt.imshow(img)\n",
    "plt.axis('off')\n",
    "plt.show()"
   ]
  },
  {
   "cell_type": "code",
   "execution_count": null,
   "metadata": {},
   "outputs": [],
   "source": [
    "def predict(img):\n",
    "    img_array = img_to_array(img)\n",
    "    img_batch = np.expand_dims(img_array, axis=0)\n",
    "    pred = saved_model.predict(img_batch)\n",
    "    print(pred)\n",
    "    pred = labels[np.argmax(pred)]\n",
    "    return pred"
   ]
  },
  {
   "cell_type": "code",
   "execution_count": null,
   "metadata": {},
   "outputs": [],
   "source": [
    "predict(img)"
   ]
  }
 ],
 "metadata": {
  "kernelspec": {
   "display_name": "DL",
   "language": "python",
   "name": "python3"
  },
  "language_info": {
   "codemirror_mode": {
    "name": "ipython",
    "version": 3
   },
   "file_extension": ".py",
   "mimetype": "text/x-python",
   "name": "python",
   "nbconvert_exporter": "python",
   "pygments_lexer": "ipython3",
   "version": "3.10.10"
  },
  "orig_nbformat": 4
 },
 "nbformat": 4,
 "nbformat_minor": 2
}
